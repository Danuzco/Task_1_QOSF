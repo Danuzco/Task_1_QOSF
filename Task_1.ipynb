{
 "cells": [
  {
   "cell_type": "code",
   "execution_count": 1,
   "metadata": {},
   "outputs": [
    {
     "name": "stderr",
     "output_type": "stream",
     "text": [
      "C:\\Users\\acer_\\anaconda3\\lib\\site-packages\\qiskit\\providers\\ibmq\\ibmqfactory.py:192: UserWarning: Timestamps in IBMQ backend properties, jobs, and job results are all now in local time instead of UTC.\n",
      "  warnings.warn('Timestamps in IBMQ backend properties, jobs, and job results '\n"
     ]
    }
   ],
   "source": [
    "from qiskit import *\n",
    "import numpy as np\n",
    "from IPython.display import clear_output\n",
    "from scipy.optimize import  minimize\n",
    "%matplotlib inline\n",
    "clear_output()\n",
    "\n",
    "\n",
    "IBMQ.load_account()\n",
    "provider = IBMQ.get_provider(hub='ibm-q', group='open')\n",
    "state_simulator = Aer.get_backend('statevector_simulator')\n",
    "backend_experimet = Aer.get_backend('qasm_simulator')\n",
    "# backend = provider.get_backend('ibmq_qasm_simulator')"
   ]
  },
  {
   "cell_type": "code",
   "execution_count": 2,
   "metadata": {},
   "outputs": [],
   "source": [
    "def kron(*matrices):\n",
    "    \"\"\"\n",
    "    Inputs:\n",
    "    matrices m1, m2, ...\n",
    "    \n",
    "    Returns:\n",
    "    The Kronecker product m1 x m2 x ...\n",
    "    \"\"\"\n",
    "    m1, m2, *ms = matrices\n",
    "    m3 = np.kron(m1, m2)\n",
    "    \n",
    "    for m in ms:\n",
    "        m3 = np.kron(m3, m)\n",
    "    \n",
    "    return m3\n",
    "\n",
    "\n",
    "def bloch_vetor(v):\n",
    "    \"\"\"\n",
    "    Inputs:\n",
    "    A vector state 'v'\n",
    "    \n",
    "    Returns:\n",
    "    The Bloch vector of 'v'\n",
    "    \"\"\"\n",
    "    X, Y, Z = np.array([[0,1], [1,0]]), np.array([[0,-1j], [1j,0]]), np.array([[1,0], [0,-1]])\n",
    "    rho = np.outer(v, np.conjugate(v))\n",
    "    r1,r2,r3 = np.trace(rho@X), np.trace(rho@Y), np.trace(rho@Z)\n",
    "    return np.real(np.array([r1,r2,r3]))\n",
    "\n",
    "\n",
    "def qubit(theta, phi):\n",
    "    \"\"\"\n",
    "    Inputs:\n",
    "    theta: Polar angle\n",
    "    phi: Azimuthal angle\n",
    "    \n",
    "    Returns:\n",
    "    A 2-dimensional vector state of norm 1\n",
    "    \"\"\"\n",
    "    return np.cos(theta/2)*np.array([1,0]) + np.exp(phi*1j)*np.sin(theta/2)*np.array([0,1])\n",
    "\n",
    "\n",
    "def random_qubit():\n",
    "    \"\"\"\n",
    "    Returns:\n",
    "    A random qubit state\n",
    "    \"\"\"\n",
    "    theta = np.pi*np.random.random_sample()\n",
    "    phi = 2*np.pi*np.random.random_sample()\n",
    "    \n",
    "    return qubit(theta, phi)\n",
    "\n",
    "\n",
    "def gates():\n",
    "    \"\"\"\n",
    "    Inputs:\n",
    "    None\n",
    "    \n",
    "    Returns:\n",
    "    All the necessary gates for the circuits\n",
    "    \"\"\"\n",
    "    \n",
    "    \n",
    "    H = np.array([[1,1],\n",
    "                  [1,-1]])/np.sqrt(2)  # Hadamard Gate\n",
    "\n",
    "\n",
    "    cc_not = np.array([[1., 0., 0., 0., 0., 0., 0., 0.],\n",
    "                       [0., 1., 0., 0., 0., 0., 0., 0.],\n",
    "                       [0., 0., 1., 0., 0., 0., 0., 0.],\n",
    "                       [0., 0., 0., 1., 0., 0., 0., 0.],\n",
    "                       [0., 0., 0., 0., 1., 0., 0., 0.],\n",
    "                       [0., 0., 0., 0., 0., 1., 0., 0.],\n",
    "                       [0., 0., 0., 0., 0., 0., 0., 1.],\n",
    "                       [0., 0., 0., 0., 0., 0., 1., 0.]])\n",
    "\n",
    "    c_not_2 = np.array([[1,0,0,0],     #CNOT2 gate\n",
    "                        [0,0,0,1],\n",
    "                        [0,0,1,0],\n",
    "                        [0,1,0,0]])\n",
    "\n",
    "    SWAP = np.array([[1., 0., 0., 0.],\n",
    "                     [0., 0., 1., 0.],\n",
    "                     [0., 1., 0., 0.],\n",
    "                     [0., 0., 0., 1.]])\n",
    "\n",
    "    return H, cc_not, c_not_2, SWAP\n",
    "\n",
    "\n",
    "def storestring(P, register):\n",
    "    \n",
    "    if abs(P - 1) <= 1e-8:\n",
    "        digit = register[-1]\n",
    "        register += digit\n",
    "    else:\n",
    "        digit = bin(int('1',2) + int(register[-1],2))[-1]\n",
    "        register += digit\n",
    "\n",
    "    return register\n",
    "\n",
    "\n",
    "def qubit_string(bit_string):\n",
    "    \"\"\"\n",
    "    Input:\n",
    "    A bit string in a numpy array\n",
    "    \n",
    "    Returns:\n",
    "    A product state generated from the bit_string\n",
    "    \"\"\"\n",
    "    I = np.identity(2)\n",
    "    i,j = bit_string[0], bit_string[1]\n",
    "    product_state = np.kron(I[i], I[j])\n",
    "    \n",
    "    for k in bit_string[2:]:\n",
    "        product_state = np.kron(product_state, I[k])\n",
    "    \n",
    "    return product_state\n",
    "\n",
    "\n",
    "\n",
    "def swap_test_Nq(N, unknown_state):\n",
    "    \"\"\"\n",
    "    We want to determine \"bitstring\" such that |bitstring> = unknown_state\n",
    "    \n",
    "    Inputs:\n",
    "    N: Number of qubits\n",
    "    unknown_state: The state whose \"bitstring\" is to be determined\n",
    "    \n",
    "    returns:\n",
    "    bitstring\n",
    "    \"\"\"\n",
    "    \n",
    "    N = N + 1\n",
    "    \n",
    "    I2, IN, found_string = np.identity(2), np.identity( 2**N ), '0'\n",
    "    \n",
    "    initial_qubits = kron( I2[0], I2[0],  unknown_state )\n",
    "    \n",
    "    H0, cc_not, c_not_2, SWAP = gates() #load gates\n",
    "    \n",
    "    H, Z0 = kron( H0, IN ), np.outer( I2[0], I2[0] )  # H is the Hadamar gate and Z0 = |0><0|\n",
    "    \n",
    "    C00 = kron( Z0, IN ) # Needed to compute the Fredkin gate\n",
    "\n",
    "    found_string = storestring(1, found_string)  # store the bit\n",
    "    \n",
    "    \n",
    "    for n in range(1,N):  \n",
    "        \n",
    "        d1, d2 = 2**(n - 1), 2**(N - n - 1)\n",
    "        \n",
    "        SWAP11 = kron( np.outer(I2[1],I2[1]), np.identity(d1), SWAP, np.identity(d2) ) # Needed to compute the Fredkin gate\n",
    "        \n",
    "        F = C00 + SWAP11  # Fredkin gate\n",
    "\n",
    "        measured_state = H @ F @ H @ initial_qubits # Circuit\n",
    "\n",
    "        P = measured_state @ kron( Z0, IN ) @ np.conjugate(measured_state) #compute the probability\n",
    "        \n",
    "        found_string = storestring(P, found_string) # store the bit\n",
    "\n",
    "        \n",
    "    return ''.join(found_string[2:])\n",
    "\n",
    "\n",
    "def parameters():\n",
    "    \"\"\" \n",
    "    Returns:\n",
    "    Random parameters to generate qubit vector states\n",
    "    \"\"\"\n",
    "    theta = np.pi*np.random.random_sample()\n",
    "    phi = 2*np.pi*np.random.random_sample()\n",
    "    \n",
    "    return theta, phi"
   ]
  },
  {
   "cell_type": "markdown",
   "metadata": {},
   "source": [
    "### 1. Generating a random state\n",
    "\n",
    "This can be achieved in qiskit by applying the $U_{3}(\\theta, \\phi, \\lambda)$ gate to $| 0 \\rangle$. \n",
    "\n",
    "$U_{3}(\\theta, \\phi, \\lambda) | 0 \\rangle = cos(\\theta/2)| 0 \\rangle + e^{i\\phi}sin(\\theta/2)| 1 \\rangle $\n",
    "\n",
    "https://qiskit.org/textbook/ch-states/single-qubit-gates.html#7.-General-U-gates--"
   ]
  },
  {
   "cell_type": "code",
   "execution_count": 5,
   "metadata": {},
   "outputs": [
    {
     "name": "stdout",
     "output_type": "stream",
     "text": [
      "\n",
      "|ψ> = [0.49422901+0.j         0.02927701+0.86883862j] \n",
      "\n",
      "|<ψ|ψ>| = 1.0\n",
      "\n",
      "\n",
      "Bloch_vector:\n",
      "r = [ 0.0289391   0.8588105  -0.51147537] \n",
      "\n",
      "|r| = 1.0\n",
      "\n",
      "\n",
      "\n",
      "Circuit:\n"
     ]
    },
    {
     "data": {
      "image/png": "[encoded data removed]",
      "text/plain": [
       "<Figure size 193.726x84.28 with 1 Axes>"
      ]
     },
     "execution_count": 5,
     "metadata": {},
     "output_type": "execute_result"
    }
   ],
   "source": [
    "q = QuantumRegister(1,'q')\n",
    "qc = QuantumCircuit(q)\n",
    "\n",
    "\n",
    "theta = np.pi*np.random.random_sample()\n",
    "phi = 2*np.pi*np.random.random_sample()\n",
    "lamda = 0 # actually lambda is not necessary here, so I set it to zero\n",
    "\n",
    "qc.u(theta, phi, lamda, q)  # U_3(...) gate\n",
    "\n",
    "state_vector = execute(qc, state_simulator).result().get_statevector(qc, decimals=3)\n",
    "r = bloch_vetor(state_vector)\n",
    "print(f\"\\n|\\u03C8> = {state_vector} \\n\\n|<\\u03C8|\\u03C8>| = {np.linalg.norm(state_vector)}\\n\")\n",
    "# print(f\"|\\u03C8> = {qubit(theta,phi)}\") # compute the state using qubit(...), just to check.\n",
    "\n",
    "print(f\"\\nBloch_vector:\\nr = {r} \\n\\n|r| = {np.linalg.norm(r)}\")\n",
    "print(\"\\n\\n\\nCircuit:\")\n",
    "qc.draw(output='mpl')"
   ]
  },
  {
   "cell_type": "markdown",
   "metadata": {},
   "source": [
    "### 2. Swap test \n",
    "In the following cells I generate a qiskit circuit to implement the *Swap test*. I generate the states $U_{3}(\\theta_1, \\phi_1, 0) | 0 \\rangle  = | q_1 \\rangle $ and $U_{3}(\\theta_2, \\phi_2, 0) | 0 \\rangle  = | q_1 \\rangle $ by choosing the parameters $\\theta_1$, $\\phi_1$, $\\theta_2$ and $\\phi_2$ (I set $\\lambda = 0$ in both cases) at random."
   ]
  },
  {
   "cell_type": "code",
   "execution_count": 6,
   "metadata": {},
   "outputs": [],
   "source": [
    "NUM_SHOTS = 10000\n",
    "\n",
    "\n",
    "def circuit_generator(params, args):\n",
    "    \n",
    "    q = QuantumRegister(3,'q')\n",
    "    c = ClassicalRegister(1,'c')\n",
    "    qc = QuantumCircuit( q, c )\n",
    "    qc.h(0)\n",
    "    qc.u(args[0], args[1], 0, q[1]) # target state\n",
    "    qc.u(params[0], params[1], 0, q[2])  # test state \n",
    "    qc.cswap(q[0],q[1],q[2])\n",
    "    qc.h(0)\n",
    "    qc.measure(q[0],c[0])\n",
    "    \n",
    "    return qc\n",
    "\n",
    "\n",
    "def objective_function(params, args):\n",
    "\n",
    "    qc = circuit_generator(params, args)\n",
    "    result = execute(qc, backend_experimet, shots=NUM_SHOTS).result()\n",
    "    counts = result.get_counts()\n",
    "    P = counts['0']/NUM_SHOTS\n",
    "\n",
    "    return 1 - P # We want to minimize this function\n"
   ]
  },
  {
   "cell_type": "markdown",
   "metadata": {},
   "source": [
    "Next, I show a circuit generated with `experiment(...)`"
   ]
  },
  {
   "cell_type": "code",
   "execution_count": 12,
   "metadata": {},
   "outputs": [
    {
     "data": {
      "image/png": "[encoded data removed]",
      "text/plain": [
       "<Figure size 387.597x264.88 with 1 Axes>"
      ]
     },
     "execution_count": 12,
     "metadata": {},
     "output_type": "execute_result"
    }
   ],
   "source": [
    "y0, y1 = parameters()  # parameters for |q1>\n",
    "x0, x1 = parameters()  # parameters for |q2>\n",
    "circuit = circuit_generator([x0, x1], [y0, y1])\n",
    "\n",
    "circuit.draw(output='mpl')"
   ]
  },
  {
   "cell_type": "markdown",
   "metadata": {},
   "source": [
    "**Finding the best choice of parameters**:\n",
    "\n",
    "The best parameters are those that maximize the probability of measuring $| 0 \\rangle$ in the circuit above. To find the parameters I implement the *COBYLA* optimizer to minimize `objective_function(...) `, this is $1 - P\\left( | 0 \\rangle \\right)$. "
   ]
  },
  {
   "cell_type": "code",
   "execution_count": 14,
   "metadata": {},
   "outputs": [],
   "source": [
    "y0, y1 = parameters()   # This two parameters generate a random \"target state\" |q1>\n",
    "x0, x1 = parameters()   # initial guess for the optimizer\n",
    "\n",
    "initial_guess = np.array([x0,x1])\n",
    "\n",
    "res = minimize(objective_function , initial_guess , args= ([y0,y1]),  method='COBYLA', tol = 1e-20, \n",
    "                options={'maxiter':6000})"
   ]
  },
  {
   "cell_type": "markdown",
   "metadata": {},
   "source": [
    "Now, to check that the found coefficients reproduce the target state, I compute the fidelity between the target state and the state generated with the parameters found in the optimization. Here, I use `qubit(...)` to generate the states."
   ]
  },
  {
   "cell_type": "code",
   "execution_count": 15,
   "metadata": {},
   "outputs": [
    {
     "name": "stdout",
     "output_type": "stream",
     "text": [
      "|q1> = [ 0.90499815+0.j         -0.39288735-0.16314988j]\n",
      "\n",
      "|q2> = [ 0.9003126 +0.j         -0.40975091-0.14676995j]\n",
      "\n",
      "Fidelity = 0.999509843052611\n"
     ]
    }
   ],
   "source": [
    "unknown_state = qubit(y0,y1)\n",
    "found_state = qubit(res.x[0], res.x[1])\n",
    "fidelity = quantum_info.state_fidelity(unknown_state,  found_state)\n",
    "\n",
    "print(f\"|q1> = {unknown_state}\\n\")\n",
    "print(f\"|q2> = {found_state}\\n\")\n",
    "print(f\"Fidelity = {fidelity}\")"
   ]
  },
  {
   "cell_type": "markdown",
   "metadata": {},
   "source": [
    "### 3. Swap test to reconstruct a random generated product state of qubits.\n",
    "\n",
    "I first show an implementation to solve part 3) using qiskit. The random product state is formed by kronecker products of $|0\\rangle$'s and $|1\\rangle$'s. The *$N$-qubit state product* is computed from a string of bits, called *bit_string*, which is generated at random. A `0` in the *i-th* entry of *bit_string* corresponds to a $|0\\rangle$ in the *i-th* qubit of the circuit (a `1` corresponds to a $|1\\rangle$, achieved by applying the $X$ gate)."
   ]
  },
  {
   "cell_type": "code",
   "execution_count": 16,
   "metadata": {},
   "outputs": [
    {
     "data": {
      "image/png": "[encoded data removed]",
      "text/plain": [
       "<Figure size 1591.6x1769.88 with 1 Axes>"
      ]
     },
     "execution_count": 16,
     "metadata": {},
     "output_type": "execute_result"
    }
   ],
   "source": [
    "N = np.random.choice([i for i in range(2,7)])   # get a random number of qubits N\n",
    "\n",
    "q = QuantumRegister(N ,'q')\n",
    "a = QuantumRegister(N+1,'a')\n",
    "c = ClassicalRegister(N ,'c')\n",
    "\n",
    "qc = QuantumCircuit( q, a, c )\n",
    "\n",
    "##################### random  product state #####################\n",
    "qc.barrier()\n",
    "bit_string = np.random.randint(2, size = N)\n",
    "for i in range(N):\n",
    "    if bit_string[i] == 1:\n",
    "        qc.x(q[i])\n",
    "qc.barrier()\n",
    "#################################################################\n",
    "    \n",
    "for i in range(N):\n",
    "    qc.h(N +  i + 1)\n",
    "    qc.cswap(a[i+1],a[0],q[i])\n",
    "    qc.h(N + i + 1)\n",
    "    qc.reset(a[0])\n",
    "    qc.measure(a[i + 1],c[i])\n",
    "    qc.barrier()\n",
    "\n",
    "qc.draw(output='mpl')"
   ]
  },
  {
   "cell_type": "code",
   "execution_count": 17,
   "metadata": {},
   "outputs": [
    {
     "name": "stdout",
     "output_type": "stream",
     "text": [
      "bit_string = [1 1 0 1 1 0]\n"
     ]
    }
   ],
   "source": [
    "print(f\"bit_string = {bit_string}\")"
   ]
  },
  {
   "cell_type": "code",
   "execution_count": 18,
   "metadata": {},
   "outputs": [],
   "source": [
    "num_of_shots = 10000\n",
    "job = execute(qc, backend_experimet, shots=num_of_shots)\n",
    "counts = job.result().get_counts()"
   ]
  },
  {
   "cell_type": "code",
   "execution_count": 19,
   "metadata": {},
   "outputs": [
    {
     "name": "stdout",
     "output_type": "stream",
     "text": [
      "The unknown state is |110110>\n"
     ]
    }
   ],
   "source": [
    "R = []\n",
    "for i in list(counts.keys()):\n",
    "    R.append(list(map(int,i)))\n",
    "R = np.flip(R, axis=1)\n",
    "idx_max = np.argmax( np.sum(R, axis=1) )\n",
    "print(f\"The unknown state is |{''.join(list(map(str,R[idx_max])))}>\")\n",
    "    "
   ]
  },
  {
   "cell_type": "markdown",
   "metadata": {},
   "source": [
    "Now, I implement `swap_test_Nq(...)`, to solve the same problem"
   ]
  },
  {
   "cell_type": "code",
   "execution_count": 20,
   "metadata": {},
   "outputs": [
    {
     "name": "stdout",
     "output_type": "stream",
     "text": [
      "\n",
      "Target state = |110110>\n",
      "\n",
      "Found state = |110110>\n"
     ]
    }
   ],
   "source": [
    "product_state = qubit_string(bit_string)\n",
    "print(f\"\\nTarget state = |{''.join(map(str,list(bit_string)))}>\\n\")\n",
    "\n",
    "resulting_state = swap_test_Nq(N, product_state)\n",
    "print(f\"Found state = |{resulting_state}>\")"
   ]
  },
  {
   "cell_type": "code",
   "execution_count": null,
   "metadata": {},
   "outputs": [],
   "source": []
  }
 ],
 "metadata": {
  "kernelspec": {
   "display_name": "Python 3",
   "language": "python",
   "name": "python3"
  },
  "language_info": {
   "codemirror_mode": {
    "name": "ipython",
    "version": 3
   },
   "file_extension": ".py",
   "mimetype": "text/x-python",
   "name": "python",
   "nbconvert_exporter": "python",
   "pygments_lexer": "ipython3",
   "version": "3.8.3"
  }
 },
 "nbformat": 4,
 "nbformat_minor": 4
}
